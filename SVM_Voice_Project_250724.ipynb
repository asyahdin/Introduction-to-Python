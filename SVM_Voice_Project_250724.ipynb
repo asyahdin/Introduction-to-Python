{
  "nbformat": 4,
  "nbformat_minor": 0,
  "metadata": {
    "colab": {
      "provenance": [],
      "authorship_tag": "ABX9TyMHP+JL14OG1Wapw5KQdilL",
      "include_colab_link": true
    },
    "kernelspec": {
      "name": "python3",
      "display_name": "Python 3"
    },
    "language_info": {
      "name": "python"
    }
  },
  "cells": [
    {
      "cell_type": "markdown",
      "metadata": {
        "id": "view-in-github",
        "colab_type": "text"
      },
      "source": [
        "<a href=\"https://colab.research.google.com/github/asyahdin/Introduction-to-Python/blob/main/SVM_Voice_Project_250724.ipynb\" target=\"_parent\"><img src=\"https://colab.research.google.com/assets/colab-badge.svg\" alt=\"Open In Colab\"/></a>"
      ]
    },
    {
      "cell_type": "code",
      "execution_count": 1,
      "metadata": {
        "colab": {
          "base_uri": "https://localhost:8080/",
          "height": 412
        },
        "id": "6HUV9dGrCJIv",
        "outputId": "bc24b676-c8d8-40ab-8b44-2fe40d14c4b7"
      },
      "outputs": [
        {
          "output_type": "execute_result",
          "data": {
            "text/plain": [
              "   meanfreq        sd    median       Q25       Q75       IQR       skew  \\\n",
              "0  0.059781  0.064241  0.032027  0.015071  0.090193  0.075122  12.863462   \n",
              "1  0.066009  0.067310  0.040229  0.019414  0.092666  0.073252  22.423285   \n",
              "2  0.077316  0.083829  0.036718  0.008701  0.131908  0.123207  30.757155   \n",
              "3  0.151228  0.072111  0.158011  0.096582  0.207955  0.111374   1.232831   \n",
              "4  0.135120  0.079146  0.124656  0.078720  0.206045  0.127325   1.101174   \n",
              "5  0.132786  0.079557  0.119090  0.067958  0.209592  0.141634   1.932562   \n",
              "6  0.150762  0.074463  0.160106  0.092899  0.205718  0.112819   1.530643   \n",
              "7  0.160514  0.076767  0.144337  0.110532  0.231962  0.121430   1.397156   \n",
              "8  0.142239  0.078018  0.138587  0.088206  0.208587  0.120381   1.099746   \n",
              "9  0.134329  0.080350  0.121451  0.075580  0.201957  0.126377   1.190368   \n",
              "\n",
              "          kurt    sp.ent       sfm  ...  centroid   meanfun    minfun  \\\n",
              "0   274.402906  0.893369  0.491918  ...  0.059781  0.084279  0.015702   \n",
              "1   634.613855  0.892193  0.513724  ...  0.066009  0.107937  0.015826   \n",
              "2  1024.927705  0.846389  0.478905  ...  0.077316  0.098706  0.015656   \n",
              "3     4.177296  0.963322  0.727232  ...  0.151228  0.088965  0.017798   \n",
              "4     4.333713  0.971955  0.783568  ...  0.135120  0.106398  0.016931   \n",
              "5     8.308895  0.963181  0.738307  ...  0.132786  0.110132  0.017112   \n",
              "6     5.987498  0.967573  0.762638  ...  0.150762  0.105945  0.026230   \n",
              "7     4.766611  0.959255  0.719858  ...  0.160514  0.093052  0.017758   \n",
              "8     4.070284  0.970723  0.770992  ...  0.142239  0.096729  0.017957   \n",
              "9     4.787310  0.975246  0.804505  ...  0.134329  0.105881  0.019300   \n",
              "\n",
              "     maxfun   meandom    mindom    maxdom   dfrange   modindx  label  \n",
              "0  0.275862  0.007812  0.007812  0.007812  0.000000  0.000000   male  \n",
              "1  0.250000  0.009014  0.007812  0.054688  0.046875  0.052632   male  \n",
              "2  0.271186  0.007990  0.007812  0.015625  0.007812  0.046512   male  \n",
              "3  0.250000  0.201497  0.007812  0.562500  0.554688  0.247119   male  \n",
              "4  0.266667  0.712812  0.007812  5.484375  5.476562  0.208274   male  \n",
              "5  0.253968  0.298222  0.007812  2.726562  2.718750  0.125160   male  \n",
              "6  0.266667  0.479620  0.007812  5.312500  5.304688  0.123992   male  \n",
              "7  0.144144  0.301339  0.007812  0.539062  0.531250  0.283937   male  \n",
              "8  0.250000  0.336476  0.007812  2.164062  2.156250  0.148272   male  \n",
              "9  0.262295  0.340365  0.015625  4.695312  4.679688  0.089920   male  \n",
              "\n",
              "[10 rows x 21 columns]"
            ],
            "text/html": [
              "\n",
              "  <div id=\"df-7eed423c-0d7f-470a-8371-8a4828593dbc\" class=\"colab-df-container\">\n",
              "    <div>\n",
              "<style scoped>\n",
              "    .dataframe tbody tr th:only-of-type {\n",
              "        vertical-align: middle;\n",
              "    }\n",
              "\n",
              "    .dataframe tbody tr th {\n",
              "        vertical-align: top;\n",
              "    }\n",
              "\n",
              "    .dataframe thead th {\n",
              "        text-align: right;\n",
              "    }\n",
              "</style>\n",
              "<table border=\"1\" class=\"dataframe\">\n",
              "  <thead>\n",
              "    <tr style=\"text-align: right;\">\n",
              "      <th></th>\n",
              "      <th>meanfreq</th>\n",
              "      <th>sd</th>\n",
              "      <th>median</th>\n",
              "      <th>Q25</th>\n",
              "      <th>Q75</th>\n",
              "      <th>IQR</th>\n",
              "      <th>skew</th>\n",
              "      <th>kurt</th>\n",
              "      <th>sp.ent</th>\n",
              "      <th>sfm</th>\n",
              "      <th>...</th>\n",
              "      <th>centroid</th>\n",
              "      <th>meanfun</th>\n",
              "      <th>minfun</th>\n",
              "      <th>maxfun</th>\n",
              "      <th>meandom</th>\n",
              "      <th>mindom</th>\n",
              "      <th>maxdom</th>\n",
              "      <th>dfrange</th>\n",
              "      <th>modindx</th>\n",
              "      <th>label</th>\n",
              "    </tr>\n",
              "  </thead>\n",
              "  <tbody>\n",
              "    <tr>\n",
              "      <th>0</th>\n",
              "      <td>0.059781</td>\n",
              "      <td>0.064241</td>\n",
              "      <td>0.032027</td>\n",
              "      <td>0.015071</td>\n",
              "      <td>0.090193</td>\n",
              "      <td>0.075122</td>\n",
              "      <td>12.863462</td>\n",
              "      <td>274.402906</td>\n",
              "      <td>0.893369</td>\n",
              "      <td>0.491918</td>\n",
              "      <td>...</td>\n",
              "      <td>0.059781</td>\n",
              "      <td>0.084279</td>\n",
              "      <td>0.015702</td>\n",
              "      <td>0.275862</td>\n",
              "      <td>0.007812</td>\n",
              "      <td>0.007812</td>\n",
              "      <td>0.007812</td>\n",
              "      <td>0.000000</td>\n",
              "      <td>0.000000</td>\n",
              "      <td>male</td>\n",
              "    </tr>\n",
              "    <tr>\n",
              "      <th>1</th>\n",
              "      <td>0.066009</td>\n",
              "      <td>0.067310</td>\n",
              "      <td>0.040229</td>\n",
              "      <td>0.019414</td>\n",
              "      <td>0.092666</td>\n",
              "      <td>0.073252</td>\n",
              "      <td>22.423285</td>\n",
              "      <td>634.613855</td>\n",
              "      <td>0.892193</td>\n",
              "      <td>0.513724</td>\n",
              "      <td>...</td>\n",
              "      <td>0.066009</td>\n",
              "      <td>0.107937</td>\n",
              "      <td>0.015826</td>\n",
              "      <td>0.250000</td>\n",
              "      <td>0.009014</td>\n",
              "      <td>0.007812</td>\n",
              "      <td>0.054688</td>\n",
              "      <td>0.046875</td>\n",
              "      <td>0.052632</td>\n",
              "      <td>male</td>\n",
              "    </tr>\n",
              "    <tr>\n",
              "      <th>2</th>\n",
              "      <td>0.077316</td>\n",
              "      <td>0.083829</td>\n",
              "      <td>0.036718</td>\n",
              "      <td>0.008701</td>\n",
              "      <td>0.131908</td>\n",
              "      <td>0.123207</td>\n",
              "      <td>30.757155</td>\n",
              "      <td>1024.927705</td>\n",
              "      <td>0.846389</td>\n",
              "      <td>0.478905</td>\n",
              "      <td>...</td>\n",
              "      <td>0.077316</td>\n",
              "      <td>0.098706</td>\n",
              "      <td>0.015656</td>\n",
              "      <td>0.271186</td>\n",
              "      <td>0.007990</td>\n",
              "      <td>0.007812</td>\n",
              "      <td>0.015625</td>\n",
              "      <td>0.007812</td>\n",
              "      <td>0.046512</td>\n",
              "      <td>male</td>\n",
              "    </tr>\n",
              "    <tr>\n",
              "      <th>3</th>\n",
              "      <td>0.151228</td>\n",
              "      <td>0.072111</td>\n",
              "      <td>0.158011</td>\n",
              "      <td>0.096582</td>\n",
              "      <td>0.207955</td>\n",
              "      <td>0.111374</td>\n",
              "      <td>1.232831</td>\n",
              "      <td>4.177296</td>\n",
              "      <td>0.963322</td>\n",
              "      <td>0.727232</td>\n",
              "      <td>...</td>\n",
              "      <td>0.151228</td>\n",
              "      <td>0.088965</td>\n",
              "      <td>0.017798</td>\n",
              "      <td>0.250000</td>\n",
              "      <td>0.201497</td>\n",
              "      <td>0.007812</td>\n",
              "      <td>0.562500</td>\n",
              "      <td>0.554688</td>\n",
              "      <td>0.247119</td>\n",
              "      <td>male</td>\n",
              "    </tr>\n",
              "    <tr>\n",
              "      <th>4</th>\n",
              "      <td>0.135120</td>\n",
              "      <td>0.079146</td>\n",
              "      <td>0.124656</td>\n",
              "      <td>0.078720</td>\n",
              "      <td>0.206045</td>\n",
              "      <td>0.127325</td>\n",
              "      <td>1.101174</td>\n",
              "      <td>4.333713</td>\n",
              "      <td>0.971955</td>\n",
              "      <td>0.783568</td>\n",
              "      <td>...</td>\n",
              "      <td>0.135120</td>\n",
              "      <td>0.106398</td>\n",
              "      <td>0.016931</td>\n",
              "      <td>0.266667</td>\n",
              "      <td>0.712812</td>\n",
              "      <td>0.007812</td>\n",
              "      <td>5.484375</td>\n",
              "      <td>5.476562</td>\n",
              "      <td>0.208274</td>\n",
              "      <td>male</td>\n",
              "    </tr>\n",
              "    <tr>\n",
              "      <th>5</th>\n",
              "      <td>0.132786</td>\n",
              "      <td>0.079557</td>\n",
              "      <td>0.119090</td>\n",
              "      <td>0.067958</td>\n",
              "      <td>0.209592</td>\n",
              "      <td>0.141634</td>\n",
              "      <td>1.932562</td>\n",
              "      <td>8.308895</td>\n",
              "      <td>0.963181</td>\n",
              "      <td>0.738307</td>\n",
              "      <td>...</td>\n",
              "      <td>0.132786</td>\n",
              "      <td>0.110132</td>\n",
              "      <td>0.017112</td>\n",
              "      <td>0.253968</td>\n",
              "      <td>0.298222</td>\n",
              "      <td>0.007812</td>\n",
              "      <td>2.726562</td>\n",
              "      <td>2.718750</td>\n",
              "      <td>0.125160</td>\n",
              "      <td>male</td>\n",
              "    </tr>\n",
              "    <tr>\n",
              "      <th>6</th>\n",
              "      <td>0.150762</td>\n",
              "      <td>0.074463</td>\n",
              "      <td>0.160106</td>\n",
              "      <td>0.092899</td>\n",
              "      <td>0.205718</td>\n",
              "      <td>0.112819</td>\n",
              "      <td>1.530643</td>\n",
              "      <td>5.987498</td>\n",
              "      <td>0.967573</td>\n",
              "      <td>0.762638</td>\n",
              "      <td>...</td>\n",
              "      <td>0.150762</td>\n",
              "      <td>0.105945</td>\n",
              "      <td>0.026230</td>\n",
              "      <td>0.266667</td>\n",
              "      <td>0.479620</td>\n",
              "      <td>0.007812</td>\n",
              "      <td>5.312500</td>\n",
              "      <td>5.304688</td>\n",
              "      <td>0.123992</td>\n",
              "      <td>male</td>\n",
              "    </tr>\n",
              "    <tr>\n",
              "      <th>7</th>\n",
              "      <td>0.160514</td>\n",
              "      <td>0.076767</td>\n",
              "      <td>0.144337</td>\n",
              "      <td>0.110532</td>\n",
              "      <td>0.231962</td>\n",
              "      <td>0.121430</td>\n",
              "      <td>1.397156</td>\n",
              "      <td>4.766611</td>\n",
              "      <td>0.959255</td>\n",
              "      <td>0.719858</td>\n",
              "      <td>...</td>\n",
              "      <td>0.160514</td>\n",
              "      <td>0.093052</td>\n",
              "      <td>0.017758</td>\n",
              "      <td>0.144144</td>\n",
              "      <td>0.301339</td>\n",
              "      <td>0.007812</td>\n",
              "      <td>0.539062</td>\n",
              "      <td>0.531250</td>\n",
              "      <td>0.283937</td>\n",
              "      <td>male</td>\n",
              "    </tr>\n",
              "    <tr>\n",
              "      <th>8</th>\n",
              "      <td>0.142239</td>\n",
              "      <td>0.078018</td>\n",
              "      <td>0.138587</td>\n",
              "      <td>0.088206</td>\n",
              "      <td>0.208587</td>\n",
              "      <td>0.120381</td>\n",
              "      <td>1.099746</td>\n",
              "      <td>4.070284</td>\n",
              "      <td>0.970723</td>\n",
              "      <td>0.770992</td>\n",
              "      <td>...</td>\n",
              "      <td>0.142239</td>\n",
              "      <td>0.096729</td>\n",
              "      <td>0.017957</td>\n",
              "      <td>0.250000</td>\n",
              "      <td>0.336476</td>\n",
              "      <td>0.007812</td>\n",
              "      <td>2.164062</td>\n",
              "      <td>2.156250</td>\n",
              "      <td>0.148272</td>\n",
              "      <td>male</td>\n",
              "    </tr>\n",
              "    <tr>\n",
              "      <th>9</th>\n",
              "      <td>0.134329</td>\n",
              "      <td>0.080350</td>\n",
              "      <td>0.121451</td>\n",
              "      <td>0.075580</td>\n",
              "      <td>0.201957</td>\n",
              "      <td>0.126377</td>\n",
              "      <td>1.190368</td>\n",
              "      <td>4.787310</td>\n",
              "      <td>0.975246</td>\n",
              "      <td>0.804505</td>\n",
              "      <td>...</td>\n",
              "      <td>0.134329</td>\n",
              "      <td>0.105881</td>\n",
              "      <td>0.019300</td>\n",
              "      <td>0.262295</td>\n",
              "      <td>0.340365</td>\n",
              "      <td>0.015625</td>\n",
              "      <td>4.695312</td>\n",
              "      <td>4.679688</td>\n",
              "      <td>0.089920</td>\n",
              "      <td>male</td>\n",
              "    </tr>\n",
              "  </tbody>\n",
              "</table>\n",
              "<p>10 rows × 21 columns</p>\n",
              "</div>\n",
              "    <div class=\"colab-df-buttons\">\n",
              "\n",
              "  <div class=\"colab-df-container\">\n",
              "    <button class=\"colab-df-convert\" onclick=\"convertToInteractive('df-7eed423c-0d7f-470a-8371-8a4828593dbc')\"\n",
              "            title=\"Convert this dataframe to an interactive table.\"\n",
              "            style=\"display:none;\">\n",
              "\n",
              "  <svg xmlns=\"http://www.w3.org/2000/svg\" height=\"24px\" viewBox=\"0 -960 960 960\">\n",
              "    <path d=\"M120-120v-720h720v720H120Zm60-500h600v-160H180v160Zm220 220h160v-160H400v160Zm0 220h160v-160H400v160ZM180-400h160v-160H180v160Zm440 0h160v-160H620v160ZM180-180h160v-160H180v160Zm440 0h160v-160H620v160Z\"/>\n",
              "  </svg>\n",
              "    </button>\n",
              "\n",
              "  <style>\n",
              "    .colab-df-container {\n",
              "      display:flex;\n",
              "      gap: 12px;\n",
              "    }\n",
              "\n",
              "    .colab-df-convert {\n",
              "      background-color: #E8F0FE;\n",
              "      border: none;\n",
              "      border-radius: 50%;\n",
              "      cursor: pointer;\n",
              "      display: none;\n",
              "      fill: #1967D2;\n",
              "      height: 32px;\n",
              "      padding: 0 0 0 0;\n",
              "      width: 32px;\n",
              "    }\n",
              "\n",
              "    .colab-df-convert:hover {\n",
              "      background-color: #E2EBFA;\n",
              "      box-shadow: 0px 1px 2px rgba(60, 64, 67, 0.3), 0px 1px 3px 1px rgba(60, 64, 67, 0.15);\n",
              "      fill: #174EA6;\n",
              "    }\n",
              "\n",
              "    .colab-df-buttons div {\n",
              "      margin-bottom: 4px;\n",
              "    }\n",
              "\n",
              "    [theme=dark] .colab-df-convert {\n",
              "      background-color: #3B4455;\n",
              "      fill: #D2E3FC;\n",
              "    }\n",
              "\n",
              "    [theme=dark] .colab-df-convert:hover {\n",
              "      background-color: #434B5C;\n",
              "      box-shadow: 0px 1px 3px 1px rgba(0, 0, 0, 0.15);\n",
              "      filter: drop-shadow(0px 1px 2px rgba(0, 0, 0, 0.3));\n",
              "      fill: #FFFFFF;\n",
              "    }\n",
              "  </style>\n",
              "\n",
              "    <script>\n",
              "      const buttonEl =\n",
              "        document.querySelector('#df-7eed423c-0d7f-470a-8371-8a4828593dbc button.colab-df-convert');\n",
              "      buttonEl.style.display =\n",
              "        google.colab.kernel.accessAllowed ? 'block' : 'none';\n",
              "\n",
              "      async function convertToInteractive(key) {\n",
              "        const element = document.querySelector('#df-7eed423c-0d7f-470a-8371-8a4828593dbc');\n",
              "        const dataTable =\n",
              "          await google.colab.kernel.invokeFunction('convertToInteractive',\n",
              "                                                    [key], {});\n",
              "        if (!dataTable) return;\n",
              "\n",
              "        const docLinkHtml = 'Like what you see? Visit the ' +\n",
              "          '<a target=\"_blank\" href=https://colab.research.google.com/notebooks/data_table.ipynb>data table notebook</a>'\n",
              "          + ' to learn more about interactive tables.';\n",
              "        element.innerHTML = '';\n",
              "        dataTable['output_type'] = 'display_data';\n",
              "        await google.colab.output.renderOutput(dataTable, element);\n",
              "        const docLink = document.createElement('div');\n",
              "        docLink.innerHTML = docLinkHtml;\n",
              "        element.appendChild(docLink);\n",
              "      }\n",
              "    </script>\n",
              "  </div>\n",
              "\n",
              "\n",
              "<div id=\"df-722938e7-3b8b-4bf7-b395-e69e8d25671a\">\n",
              "  <button class=\"colab-df-quickchart\" onclick=\"quickchart('df-722938e7-3b8b-4bf7-b395-e69e8d25671a')\"\n",
              "            title=\"Suggest charts\"\n",
              "            style=\"display:none;\">\n",
              "\n",
              "<svg xmlns=\"http://www.w3.org/2000/svg\" height=\"24px\"viewBox=\"0 0 24 24\"\n",
              "     width=\"24px\">\n",
              "    <g>\n",
              "        <path d=\"M19 3H5c-1.1 0-2 .9-2 2v14c0 1.1.9 2 2 2h14c1.1 0 2-.9 2-2V5c0-1.1-.9-2-2-2zM9 17H7v-7h2v7zm4 0h-2V7h2v10zm4 0h-2v-4h2v4z\"/>\n",
              "    </g>\n",
              "</svg>\n",
              "  </button>\n",
              "\n",
              "<style>\n",
              "  .colab-df-quickchart {\n",
              "      --bg-color: #E8F0FE;\n",
              "      --fill-color: #1967D2;\n",
              "      --hover-bg-color: #E2EBFA;\n",
              "      --hover-fill-color: #174EA6;\n",
              "      --disabled-fill-color: #AAA;\n",
              "      --disabled-bg-color: #DDD;\n",
              "  }\n",
              "\n",
              "  [theme=dark] .colab-df-quickchart {\n",
              "      --bg-color: #3B4455;\n",
              "      --fill-color: #D2E3FC;\n",
              "      --hover-bg-color: #434B5C;\n",
              "      --hover-fill-color: #FFFFFF;\n",
              "      --disabled-bg-color: #3B4455;\n",
              "      --disabled-fill-color: #666;\n",
              "  }\n",
              "\n",
              "  .colab-df-quickchart {\n",
              "    background-color: var(--bg-color);\n",
              "    border: none;\n",
              "    border-radius: 50%;\n",
              "    cursor: pointer;\n",
              "    display: none;\n",
              "    fill: var(--fill-color);\n",
              "    height: 32px;\n",
              "    padding: 0;\n",
              "    width: 32px;\n",
              "  }\n",
              "\n",
              "  .colab-df-quickchart:hover {\n",
              "    background-color: var(--hover-bg-color);\n",
              "    box-shadow: 0 1px 2px rgba(60, 64, 67, 0.3), 0 1px 3px 1px rgba(60, 64, 67, 0.15);\n",
              "    fill: var(--button-hover-fill-color);\n",
              "  }\n",
              "\n",
              "  .colab-df-quickchart-complete:disabled,\n",
              "  .colab-df-quickchart-complete:disabled:hover {\n",
              "    background-color: var(--disabled-bg-color);\n",
              "    fill: var(--disabled-fill-color);\n",
              "    box-shadow: none;\n",
              "  }\n",
              "\n",
              "  .colab-df-spinner {\n",
              "    border: 2px solid var(--fill-color);\n",
              "    border-color: transparent;\n",
              "    border-bottom-color: var(--fill-color);\n",
              "    animation:\n",
              "      spin 1s steps(1) infinite;\n",
              "  }\n",
              "\n",
              "  @keyframes spin {\n",
              "    0% {\n",
              "      border-color: transparent;\n",
              "      border-bottom-color: var(--fill-color);\n",
              "      border-left-color: var(--fill-color);\n",
              "    }\n",
              "    20% {\n",
              "      border-color: transparent;\n",
              "      border-left-color: var(--fill-color);\n",
              "      border-top-color: var(--fill-color);\n",
              "    }\n",
              "    30% {\n",
              "      border-color: transparent;\n",
              "      border-left-color: var(--fill-color);\n",
              "      border-top-color: var(--fill-color);\n",
              "      border-right-color: var(--fill-color);\n",
              "    }\n",
              "    40% {\n",
              "      border-color: transparent;\n",
              "      border-right-color: var(--fill-color);\n",
              "      border-top-color: var(--fill-color);\n",
              "    }\n",
              "    60% {\n",
              "      border-color: transparent;\n",
              "      border-right-color: var(--fill-color);\n",
              "    }\n",
              "    80% {\n",
              "      border-color: transparent;\n",
              "      border-right-color: var(--fill-color);\n",
              "      border-bottom-color: var(--fill-color);\n",
              "    }\n",
              "    90% {\n",
              "      border-color: transparent;\n",
              "      border-bottom-color: var(--fill-color);\n",
              "    }\n",
              "  }\n",
              "</style>\n",
              "\n",
              "  <script>\n",
              "    async function quickchart(key) {\n",
              "      const quickchartButtonEl =\n",
              "        document.querySelector('#' + key + ' button');\n",
              "      quickchartButtonEl.disabled = true;  // To prevent multiple clicks.\n",
              "      quickchartButtonEl.classList.add('colab-df-spinner');\n",
              "      try {\n",
              "        const charts = await google.colab.kernel.invokeFunction(\n",
              "            'suggestCharts', [key], {});\n",
              "      } catch (error) {\n",
              "        console.error('Error during call to suggestCharts:', error);\n",
              "      }\n",
              "      quickchartButtonEl.classList.remove('colab-df-spinner');\n",
              "      quickchartButtonEl.classList.add('colab-df-quickchart-complete');\n",
              "    }\n",
              "    (() => {\n",
              "      let quickchartButtonEl =\n",
              "        document.querySelector('#df-722938e7-3b8b-4bf7-b395-e69e8d25671a button');\n",
              "      quickchartButtonEl.style.display =\n",
              "        google.colab.kernel.accessAllowed ? 'block' : 'none';\n",
              "    })();\n",
              "  </script>\n",
              "</div>\n",
              "\n",
              "    </div>\n",
              "  </div>\n"
            ],
            "application/vnd.google.colaboratory.intrinsic+json": {
              "type": "dataframe",
              "variable_name": "df"
            }
          },
          "metadata": {},
          "execution_count": 1
        }
      ],
      "source": [
        "import pandas as pd\n",
        "import numpy as np\n",
        "import matplotlib.pyplot as plt\n",
        "import seaborn as sns\n",
        "\n",
        "\n",
        "import pandas as pd\n",
        "\n",
        "df = pd.read_csv(\"/content/voice.csv\")\n",
        "df.head(10)"
      ]
    },
    {
      "cell_type": "code",
      "source": [
        "df.info()"
      ],
      "metadata": {
        "colab": {
          "base_uri": "https://localhost:8080/"
        },
        "id": "jBKHJV43CgCA",
        "outputId": "46b30248-ccc1-4baa-9738-e327fe51d409"
      },
      "execution_count": 2,
      "outputs": [
        {
          "output_type": "stream",
          "name": "stdout",
          "text": [
            "<class 'pandas.core.frame.DataFrame'>\n",
            "RangeIndex: 3168 entries, 0 to 3167\n",
            "Data columns (total 21 columns):\n",
            " #   Column    Non-Null Count  Dtype  \n",
            "---  ------    --------------  -----  \n",
            " 0   meanfreq  3168 non-null   float64\n",
            " 1   sd        3168 non-null   float64\n",
            " 2   median    3168 non-null   float64\n",
            " 3   Q25       3168 non-null   float64\n",
            " 4   Q75       3168 non-null   float64\n",
            " 5   IQR       3168 non-null   float64\n",
            " 6   skew      3168 non-null   float64\n",
            " 7   kurt      3168 non-null   float64\n",
            " 8   sp.ent    3168 non-null   float64\n",
            " 9   sfm       3168 non-null   float64\n",
            " 10  mode      3168 non-null   float64\n",
            " 11  centroid  3168 non-null   float64\n",
            " 12  meanfun   3168 non-null   float64\n",
            " 13  minfun    3168 non-null   float64\n",
            " 14  maxfun    3168 non-null   float64\n",
            " 15  meandom   3168 non-null   float64\n",
            " 16  mindom    3168 non-null   float64\n",
            " 17  maxdom    3168 non-null   float64\n",
            " 18  dfrange   3168 non-null   float64\n",
            " 19  modindx   3168 non-null   float64\n",
            " 20  label     3168 non-null   object \n",
            "dtypes: float64(20), object(1)\n",
            "memory usage: 519.9+ KB\n"
          ]
        }
      ]
    },
    {
      "cell_type": "code",
      "source": [
        "#to check classes or label\n",
        "df['label'].value_counts()"
      ],
      "metadata": {
        "colab": {
          "base_uri": "https://localhost:8080/"
        },
        "id": "FEPi0cjtCmXi",
        "outputId": "dc6ab992-8073-492f-e6dd-e834d848dce4"
      },
      "execution_count": 3,
      "outputs": [
        {
          "output_type": "execute_result",
          "data": {
            "text/plain": [
              "label\n",
              "male      1584\n",
              "female    1584\n",
              "Name: count, dtype: int64"
            ]
          },
          "metadata": {},
          "execution_count": 3
        }
      ]
    },
    {
      "cell_type": "code",
      "source": [
        "x = df.iloc[:,:-1].values\n",
        "y = df['label'].values"
      ],
      "metadata": {
        "id": "tw4tjz27Cu12"
      },
      "execution_count": 7,
      "outputs": []
    },
    {
      "cell_type": "code",
      "source": [
        "from sklearn.preprocessing import LabelEncoder, StandardScaler\n",
        "\n",
        " #normalization\n",
        "normal_x = StandardScaler()\n",
        "x = normal_x.fit_transform(x)\n",
        "\n",
        "#encoding #to change from categorical to numerical\n",
        "encodn_y = LabelEncoder() #this is where to change the object to float - name'label'\n",
        "y = encodn_y.fit_transform(y)\n",
        "\n",
        "x[:5]"
      ],
      "metadata": {
        "colab": {
          "base_uri": "https://localhost:8080/"
        },
        "id": "K42rZDITDBFG",
        "outputId": "c61d0388-a2b9-4d4e-c79c-a13ebb2ae863"
      },
      "execution_count": 14,
      "outputs": [
        {
          "output_type": "execute_result",
          "data": {
            "text/plain": [
              "array([[-4.04924806,  0.4273553 , -4.22490077, -2.57610164, -5.69360723,\n",
              "        -0.21477826,  2.29330585,  1.76294635, -0.03908279,  0.4715753 ,\n",
              "        -2.14121031, -4.04924806, -1.81203825, -1.0979981 ,  0.56595854,\n",
              "        -1.5642046 , -0.70840431, -1.43142165, -1.41913712, -1.45477229],\n",
              "       [-3.84105325,  0.6116695 , -3.99929342, -2.48688452, -5.58898726,\n",
              "        -0.25848536,  4.54805598,  4.43300778, -0.06523603,  0.59443122,\n",
              "        -2.14121031, -3.84105325, -1.07959443, -1.09153262, -0.29403034,\n",
              "        -1.56191576, -0.70840431, -1.41810716, -1.4058184 , -1.01410294],\n",
              "       [-3.46306647,  1.60384791, -4.09585052, -2.7069865 , -3.92869875,\n",
              "         0.90932569,  6.51365636,  7.32620677, -1.08373029,  0.39826097,\n",
              "        -2.14121031, -3.46306647, -1.36536788, -1.10039656,  0.41048032,\n",
              "        -1.56386648, -0.70840431, -1.42920257, -1.41691733, -1.06534356],\n",
              "       [-0.99215739,  0.89999793, -0.75945371, -0.90141834, -0.7112046 ,\n",
              "         0.63269035, -0.44985837, -0.24009931,  1.51638269,  1.79733981,\n",
              "        -1.05457622, -0.99215739, -1.66696584, -0.98893356, -0.29403034,\n",
              "        -1.1953668 , -0.70840431, -1.27386686, -1.26153232,  0.61428596],\n",
              "       [-1.53064039,  1.32256096, -1.67694793, -1.26839521, -0.79202875,\n",
              "         1.0055881 , -0.48091073, -0.23893987,  1.70833622,  2.11473955,\n",
              "        -0.79051354, -1.53064039, -1.12723346, -1.03401549,  0.26018471,\n",
              "        -0.22165979, -0.70840431,  0.12415445,  0.13693282,  0.28904621]])"
            ]
          },
          "metadata": {},
          "execution_count": 14
        }
      ]
    },
    {
      "cell_type": "code",
      "source": [
        "y"
      ],
      "metadata": {
        "colab": {
          "base_uri": "https://localhost:8080/"
        },
        "id": "rBgFpolyEWa3",
        "outputId": "24fba91a-297e-4a50-941c-95060a94a0de"
      },
      "execution_count": 15,
      "outputs": [
        {
          "output_type": "execute_result",
          "data": {
            "text/plain": [
              "array([1, 1, 1, ..., 0, 0, 0])"
            ]
          },
          "metadata": {},
          "execution_count": 15
        }
      ]
    },
    {
      "cell_type": "code",
      "source": [
        "from sklearn.model_selection import train_test_split\n",
        "x_train, x_test, y_train, y_test = train_test_split(x, y, test_size=0.2, random_state=1)\n",
        "\n",
        "x_train.shape"
      ],
      "metadata": {
        "colab": {
          "base_uri": "https://localhost:8080/"
        },
        "id": "nrmNP0DxDv5K",
        "outputId": "9cd1b9a7-25ec-4343-95a8-eef86ff55047"
      },
      "execution_count": 16,
      "outputs": [
        {
          "output_type": "execute_result",
          "data": {
            "text/plain": [
              "(2534, 20)"
            ]
          },
          "metadata": {},
          "execution_count": 16
        }
      ]
    },
    {
      "cell_type": "code",
      "source": [
        "#modeling\n",
        "from sklearn.svm import SVC\n",
        "from sklearn.metrics import accuracy_score\n",
        "\n",
        "SVM_bank = SVC()\n",
        "\n",
        "#training\n",
        "SVM_bank.fit(x_train, y_train)\n",
        "\n",
        "#prediction\n",
        "y_hat= SVM_bank.predict(x_test)\n",
        "\n",
        "#evaluation\n",
        "print('The accuracy based on RBD kernal is: ', (accuracy_score(y_test, y_hat))*100)"
      ],
      "metadata": {
        "colab": {
          "base_uri": "https://localhost:8080/"
        },
        "id": "LfXBg3stEiYA",
        "outputId": "132d69d7-f797-4543-bf2f-e8b07042d6a6"
      },
      "execution_count": 17,
      "outputs": [
        {
          "output_type": "stream",
          "name": "stdout",
          "text": [
            "The accuracy based on RBD kernal is:  97.63406940063092\n"
          ]
        }
      ]
    },
    {
      "cell_type": "code",
      "source": [
        "SVM_bank = SVC(kernel='linear') # so if not change the parameters the default kernel is rbf!! #The result must have higher than rbf #processing time is faster than rbf\n",
        "\n",
        "#training\n",
        "SVM_bank.fit(x_train, y_train)\n",
        "\n",
        "#prediction\n",
        "y_hat= SVM_bank.predict(x_test)\n",
        "\n",
        "#evaluation\n",
        "print('The accuracy based on RBD kernal is: ', (accuracy_score(y_test, y_hat))*100)"
      ],
      "metadata": {
        "colab": {
          "base_uri": "https://localhost:8080/"
        },
        "id": "hcA--uu6Erw-",
        "outputId": "78395712-cb28-48c7-a81c-aa96e2d9e023"
      },
      "execution_count": 18,
      "outputs": [
        {
          "output_type": "stream",
          "name": "stdout",
          "text": [
            "The accuracy based on RBD kernal is:  97.79179810725552\n"
          ]
        }
      ]
    },
    {
      "cell_type": "code",
      "source": [
        "SVM_bank = SVC(kernel='poly') #using parameter poly #The result is same with rbf\n",
        "\n",
        "#training\n",
        "SVM_bank.fit(x_train, y_train)\n",
        "\n",
        "#prediction\n",
        "y_hat= SVM_bank.predict(x_test)\n",
        "\n",
        "#evaluation\n",
        "print('The accuracy based on RBD kernal is: ', (accuracy_score(y_test, y_hat))*100)"
      ],
      "metadata": {
        "colab": {
          "base_uri": "https://localhost:8080/"
        },
        "id": "reH6CPYgEsr_",
        "outputId": "f3d8c262-b381-4350-f94c-06245b40a2fe"
      },
      "execution_count": 19,
      "outputs": [
        {
          "output_type": "stream",
          "name": "stdout",
          "text": [
            "The accuracy based on RBD kernal is:  95.89905362776025\n"
          ]
        }
      ]
    },
    {
      "cell_type": "code",
      "source": [
        "SVM_bank = SVC(kernel='sigmoid') #using parameter poly #The result is lowest among other kernel\n",
        "\n",
        "#training\n",
        "SVM_bank.fit(x_train, y_train)\n",
        "\n",
        "#prediction\n",
        "y_hat= SVM_bank.predict(x_test)\n",
        "\n",
        "#evaluation\n",
        "print('The accuracy based on RBD kernal is: ', (accuracy_score(y_test, y_hat))*100)"
      ],
      "metadata": {
        "colab": {
          "base_uri": "https://localhost:8080/"
        },
        "id": "7TmgEQNqEtES",
        "outputId": "812d8ca9-3b06-40d7-99ba-d16cf065d932"
      },
      "execution_count": 20,
      "outputs": [
        {
          "output_type": "stream",
          "name": "stdout",
          "text": [
            "The accuracy based on RBD kernal is:  79.33753943217665\n"
          ]
        }
      ]
    },
    {
      "cell_type": "code",
      "source": [
        "#cross validation\n",
        "from sklearn.model_selection import cross_val_score\n",
        "\n",
        "SVM_bank = SVC()\n",
        "\n",
        "mean_accuracy = cross_val_score(SVM_bank, x, y, cv=5, scoring='accuracy', verbose = 2) #the result shows how many time the proses run, know each step\n",
        "\n",
        "print ('The total number of accuracy are:', mean_accuracy)\n",
        "print ('')\n",
        "print ('The avg of all is:', (np.mean(mean_accuracy))*100)"
      ],
      "metadata": {
        "colab": {
          "base_uri": "https://localhost:8080/"
        },
        "id": "YXwLNAIEFC0O",
        "outputId": "ca056b63-a27c-4653-b653-05f4e0de7f97"
      },
      "execution_count": 21,
      "outputs": [
        {
          "output_type": "stream",
          "name": "stdout",
          "text": [
            "[CV] END .................................................... total time=   0.1s\n",
            "[CV] END .................................................... total time=   0.1s\n",
            "[CV] END .................................................... total time=   0.1s\n",
            "[CV] END .................................................... total time=   0.1s\n",
            "[CV] END .................................................... total time=   0.1s\n",
            "The total number of accuracy are: [0.94006309 0.97003155 0.98107256 0.98894155 0.95734597]\n",
            "\n",
            "The avg of all is: 96.74909424352516\n"
          ]
        }
      ]
    },
    {
      "cell_type": "code",
      "source": [
        "SVM_bank = SVC(kernel = 'linear')\n",
        "\n",
        "mean_accuracy = cross_val_score(SVM_bank, x, y, cv=5, scoring='accuracy', verbose = 2) #the result shows how many time the step process run\n",
        "\n",
        "print ('The total number of accuracy are:', mean_accuracy)\n",
        "print ('')\n",
        "print ('The avg of all is:', (np.mean(mean_accuracy))*100)"
      ],
      "metadata": {
        "colab": {
          "base_uri": "https://localhost:8080/"
        },
        "id": "LnG1qvjVHENe",
        "outputId": "afb2fe0d-14c2-4e16-bf45-19858c205cc6"
      },
      "execution_count": 23,
      "outputs": [
        {
          "output_type": "stream",
          "name": "stdout",
          "text": [
            "[CV] END .................................................... total time=   0.1s\n",
            "[CV] END .................................................... total time=   0.1s\n",
            "[CV] END .................................................... total time=   0.1s\n",
            "[CV] END .................................................... total time=   0.2s\n",
            "[CV] END .................................................... total time=   0.2s\n",
            "The total number of accuracy are: [0.92902208 0.97791798 0.97318612 0.98262243 0.97314376]\n",
            "\n",
            "The avg of all is: 96.71784751396632\n"
          ]
        }
      ]
    },
    {
      "cell_type": "code",
      "source": [
        "SVM_bank = SVC(kernel = 'poly')\n",
        "\n",
        "mean_accuracy = cross_val_score(SVM_bank, x, y, cv=5, scoring='accuracy', verbose = 2) #the result shows how many time the step process run\n",
        "\n",
        "print ('The total number of accuracy are:', mean_accuracy)\n",
        "print ('')\n",
        "print ('The avg of all is:', (np.mean(mean_accuracy))*100)"
      ],
      "metadata": {
        "colab": {
          "base_uri": "https://localhost:8080/"
        },
        "id": "CmlxNWVFKaM8",
        "outputId": "ec1c88e1-2be1-4f34-b74b-526fd1053710"
      },
      "execution_count": 26,
      "outputs": [
        {
          "output_type": "stream",
          "name": "stdout",
          "text": [
            "[CV] END .................................................... total time=   0.2s\n",
            "[CV] END .................................................... total time=   0.1s\n",
            "[CV] END .................................................... total time=   0.1s\n",
            "[CV] END .................................................... total time=   0.2s\n",
            "[CV] END .................................................... total time=   0.2s\n",
            "The total number of accuracy are: [0.90851735 0.92271293 0.97160883 0.96840442 0.92575039]\n",
            "\n",
            "The avg of all is: 93.93987870089354\n"
          ]
        }
      ]
    },
    {
      "cell_type": "code",
      "source": [
        "SVM_bank = SVC(kernel = 'sigmoid')\n",
        "\n",
        "mean_accuracy = cross_val_score(SVM_bank, x, y, cv=5, scoring='accuracy', verbose = 2) #the result shows how many time the step process run\n",
        "\n",
        "print ('The total number of accuracy are:', mean_accuracy)\n",
        "print ('')\n",
        "print ('The avg of all is:', (np.mean(mean_accuracy))*100)"
      ],
      "metadata": {
        "colab": {
          "base_uri": "https://localhost:8080/"
        },
        "id": "Nuoj7RuFKcpk",
        "outputId": "8810b878-8820-42d5-bc0a-6af0e462dba9"
      },
      "execution_count": 27,
      "outputs": [
        {
          "output_type": "stream",
          "name": "stdout",
          "text": [
            "[CV] END .................................................... total time=   0.2s\n",
            "[CV] END .................................................... total time=   0.2s\n",
            "[CV] END .................................................... total time=   0.4s\n",
            "[CV] END .................................................... total time=   0.5s\n",
            "[CV] END .................................................... total time=   0.4s\n",
            "The total number of accuracy are: [0.70347003 0.85804416 0.84227129 0.77567141 0.70616114]\n",
            "\n",
            "The avg of all is: 77.71236064805817\n"
          ]
        }
      ]
    }
  ]
}